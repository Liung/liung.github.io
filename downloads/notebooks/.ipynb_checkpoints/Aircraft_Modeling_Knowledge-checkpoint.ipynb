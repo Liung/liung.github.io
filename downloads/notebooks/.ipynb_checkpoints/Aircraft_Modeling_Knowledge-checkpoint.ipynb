{
 "metadata": {
  "name": "",
  "signature": "sha256:f45fd3cbba39a5dac7c626d53513826a0ed37248ef4b707698aba62cab8e10ea"
 },
 "nbformat": 3,
 "nbformat_minor": 0,
 "worksheets": [
  {
   "cells": [
    {
     "cell_type": "heading",
     "level": 4,
     "metadata": {},
     "source": [
      "1\u3001\u5e73\u5747\u6c14\u52a8\u5f26\u957f"
     ]
    },
    {
     "cell_type": "markdown",
     "metadata": {},
     "source": [
      "\u5e73\u5747\u7a7a\u6c14\u52a8\u529b\u5f26\u957f\u662f\u2014\u4e2a\u5047\u60f3\u77e9\u5f62\u673a\u7ffc\u7684\u5f26\u957f\uff0c\u8fd9\u4e00\u5047\u60f3\u673a\u7ffc\u7684\u9762\u79efS\u548c\u5b9e\u9645\u673a\u7ffc\u7684\u9762\u79ef\u76f8\u7b49\uff0c\u5b83\u7684\u529b\u77e9\u7279\u6027\u548c\u5b9e\u9645\u673a\u7ffc\u4e5f\u76f8\u540c\u3002"
     ]
    },
    {
     "cell_type": "markdown",
     "metadata": {},
     "source": [
      "**Wiki\u4e0a\u7684\u89e3\u91ca\uff1a**"
     ]
    },
    {
     "cell_type": "markdown",
     "metadata": {},
     "source": [
      "\u4e00\u822c\u7684\u98de\u884c\u5668\uff0c\u5728\u673a\u7ffc\u5404\u4e2a\u4f4d\u7f6e\u7684\u7ffc\u5f26\u957f\u5ea6\u4e0d\u5c3d\u76f8\u540c\uff0c\u56e0\u6b64\u4fbf\u6709\u5176\u5b83\u7684\u5b9a\u4e49\u3002\u5728\u5206\u6790\u98de\u884c\u5668\u7684\u6027\u80fd\u65f6\uff0c\u6700\u5e38\u7528\u7684\u662f**\u5e73\u5747\u7a7a\u6c14\u52a8\u529b\u5f26\u957f**\uff08\u5e73\u5747\u6c14\u52a8\u5f26\u957f\uff0cmean aerodynamic chord\uff0cMAC\uff0c\u6216\u662f\u7528$\\bar{c}$\u8868\u793a)\uff0c\u5176\u5b9a\u4e49\u5982\u4e0b\uff1a"
     ]
    },
    {
     "cell_type": "markdown",
     "metadata": {},
     "source": [
      "$$\\bar{c} = \\frac{1}{S}\\int_{-\\frac{b}{2}}^{\\frac{b}{2}} c^2(y) dy$$"
     ]
    },
    {
     "cell_type": "markdown",
     "metadata": {},
     "source": [
      "\u5176\u4e2d$y$\u5ea7\u6807\u7684\u65b9\u5411\u662f\u6cbf\u7740\u673a\u7ffc\u7ffc\u5c55\u65b9\u5411\uff0c\u800c$c(y)$\u5219\u662f\u5728\u8be5\u4f4d\u7f6e\u4e0a\u7ffc\u5256\u9762\u7684\u5f26\u957f\u3002"
     ]
    },
    {
     "cell_type": "markdown",
     "metadata": {},
     "source": [
      "\u53e6\u5916\u4e00\u79cd\u7eaf\u51e0\u4f55\u7684\u5b9a\u4e49\u4e3a**\u6807\u51c6\u5e73\u5747\u5f26\u957f**\uff08standard mean chord\uff0cSMC\uff09\uff1a"
     ]
    },
    {
     "cell_type": "markdown",
     "metadata": {},
     "source": [
      "$$SMC = \\frac{S}{b}$$"
     ]
    },
    {
     "cell_type": "markdown",
     "metadata": {},
     "source": [
      "\u5176\u4e2d$S$\u4e3a\u7ffc\u9762\u79ef\uff0c$b$\u4e3a\u7ffc\u5c55\u957f\u5ea6\u3002"
     ]
    },
    {
     "cell_type": "heading",
     "level": 4,
     "metadata": {},
     "source": [
      "2\u3001\u7f29\u51cf\u9891\u7387\uff08reduced frequency\uff09"
     ]
    },
    {
     "cell_type": "markdown",
     "metadata": {},
     "source": [
      "\u5b9a\u4e49\uff1a"
     ]
    },
    {
     "cell_type": "markdown",
     "metadata": {},
     "source": [
      "$$k = \\frac{\\omega l}{V} = 2\\pi f \\frac{l}{V}$$"
     ]
    },
    {
     "cell_type": "markdown",
     "metadata": {},
     "source": [
      "\u5176\u4e2d\uff1a$\\omega = 2\\pi f $,\u5706\u9891\u7387\u3002$V$ \u8868\u793a\u98ce\u901f\u3002$l$ \u8868\u793a\u7279\u5f81\u957f\u5ea6\uff08characteristic length\uff09,\u5bf9\u4e8e\u7eb5\u5411\u548c\u6a2a\u822a\u5411\uff0c\u5206\u522b\u6709\u5982\u4e0b\u5b9a\u4e49\uff1a"
     ]
    },
    {
     "cell_type": "markdown",
     "metadata": {},
     "source": [
      "$$l = \\frac{\\bar{c}}{2} \\quad or \\quad \\frac{b}{2}$$"
     ]
    },
    {
     "cell_type": "markdown",
     "metadata": {},
     "source": [
      "\u5176\u4e2d\uff0c$\\bar{c}$\u4e3a\u5e73\u5747\u6c14\u52a8\u5f26\u957f\u3002$b$\u4e3a\u6a21\u578b\u5c55\u957f\u3002"
     ]
    },
    {
     "cell_type": "heading",
     "level": 4,
     "metadata": {},
     "source": [
      "3\u3001\u65f6\u95f4\u7684\u65e0\u91cf\u7eb2\u5316\uff08nondimensional time\uff09"
     ]
    },
    {
     "cell_type": "markdown",
     "metadata": {},
     "source": [
      "\u7528 $t'$ \u6765\u8868\u793a\u65e0\u91cf\u7eb2\u5316\u7684\u65f6\u95f4\uff0c\u5219\uff1a"
     ]
    },
    {
     "cell_type": "markdown",
     "metadata": {},
     "source": [
      "$$t' = \\frac{t V}{l}$$"
     ]
    },
    {
     "cell_type": "markdown",
     "metadata": {},
     "source": [
      "\u5176\u4e2d\uff0c$V$\u8868\u793a\u98ce\u901f\u3002$l$ \u8868\u793a\u7279\u5f81\u957f\u5ea6\u3002"
     ]
    },
    {
     "cell_type": "heading",
     "level": 4,
     "metadata": {},
     "source": [
      "4\u3001\u5173\u4e8e\u52a8\u5bfc\u6570\u9762\u79ef\u79ef\u5206\u6cd5\u7684\u7406\u89e3"
     ]
    },
    {
     "cell_type": "markdown",
     "metadata": {},
     "source": [
      "\u7528\u80fd\u91cf\u4ea4\u6362\u6cd5\u6765\u5206\u6790\u6a21\u578b\u8fd0\u52a8\u7684\u7a33\u5b9a\u6027\uff1a\u5f53\u98de\u673a\u6a21\u578b\u505a\u4fef\u4ef0\u632f\u8361\u8fd0\u52a8\u65f6\u3002\u77ac\u65f6\u6cd5\u5411\u6c14\u52a8\u529b\u7684\u505a\u529f\u4e3a\uff1a"
     ]
    },
    {
     "cell_type": "markdown",
     "metadata": {},
     "source": [
      "$$\n",
      "\\Delta E = F_m * \\Delta l\n",
      "$$"
     ]
    },
    {
     "cell_type": "markdown",
     "metadata": {},
     "source": [
      "\u800c$\\Delta l$\u53ef\u4ee5\u770b\u505a\u4e00\u5c0f\u6bb5\u5f27\u957f\u3002\u6240\u4ee5\u6709\uff1a"
     ]
    },
    {
     "cell_type": "markdown",
     "metadata": {},
     "source": [
      "$$\\Delta l = rad(t)*R$$"
     ]
    },
    {
     "cell_type": "markdown",
     "metadata": {},
     "source": [
      "\u8fd9\u91cc\uff0c$R$ \u4ee3\u8868\u98de\u673a\u7ed5\u8f74\u5fc3\u505a\u4fef\u4ef0\u8fd0\u52a8\u7684\u534a\u5f84\u3002$rad(t)$ \u4ee3\u8868\u77ac\u65f6\u7684\u5f27\u5ea6\u3002\u7ecf\u8fc7\u5206\u6790\u53ef\u4ee5\u77e5\u9053\uff0c\u98de\u884c\u8fc7\u7a0b\u4e2d\uff0c$R$ \u53ef\u4ee5\u770b\u505a\u662f\u7279\u5f81\u957f\u5ea6$b$\u3002$rad(t)$ \u53ef\u4ee5\u8ba4\u4e3a\u6709\u5982\u4e0b\u5173\u7cfb\uff1a "
     ]
    },
    {
     "cell_type": "markdown",
     "metadata": {},
     "source": [
      "$$rad(t) = \\omega (t) * \\Delta t = \\dot{\\alpha} (t) *\\Delta t$$"
     ]
    },
    {
     "cell_type": "markdown",
     "metadata": {},
     "source": [
      "\u53e6\u5916\uff0c$F_m$ \u53ef\u4ee5\u5982\u4e0b\u8868\u793a\uff1a"
     ]
    },
    {
     "cell_type": "markdown",
     "metadata": {},
     "source": [
      "$$\n",
      "F_m(t) = \\frac{1}{2} \\rho V_\\infty^2 S C_m (t)= \\bar{q} S C_m (t)\n",
      "$$"
     ]
    },
    {
     "cell_type": "markdown",
     "metadata": {},
     "source": [
      "\u6574\u7406\u53ef\u4ee5\u5f97\u5230\uff1a"
     ]
    },
    {
     "cell_type": "markdown",
     "metadata": {},
     "source": [
      "$$\n",
      "\\Delta E = \\bar{q} S b C_m (t) \\dot{\\alpha} (t) \\Delta t\n",
      "$$"
     ]
    },
    {
     "cell_type": "markdown",
     "metadata": {},
     "source": [
      "\u6cbf\u65f6\u95f4\u8def\u5f84\u79ef\u5206\u53ef\u4ee5\u5f97\u51fa\uff1a"
     ]
    },
    {
     "cell_type": "markdown",
     "metadata": {},
     "source": [
      "$$\n",
      "E = \\bar{q} S  b \\int_{t_1}^{t_2} C_m (t) \\dot{\\alpha} (t) dt =  \\bar{q} S  b \\int_{C_{\\alpha}} \\!\\!\\!\\!C_m (\\alpha) d\\alpha  \n",
      "\\overset{\\underset{\\mathrm{\u4e00\u4e2a\u5468\u671f}}{}}{=====}\n",
      "\\bar{q} S  b \\oint C_m (\\alpha) d\\alpha\n",
      "$$"
     ]
    },
    {
     "cell_type": "markdown",
     "metadata": {},
     "source": [
      "###5\u3001\u6c42\u89e3\u4e00\u9636\u5e38\u5fae\u5206\u65b9\u7a0b\u7684\u56db\u9636\u9f99\u683c\u5e93\u5854\u65b9\u6cd5\uff08RK4\uff09\n",
      "\n",
      "<!-- PELICAN_BEGIN_SUMMARY -->\n",
      "\u6570\u503c\u5206\u6790\u4e2d\uff0c\u9f99\u683c\uff0d\u5e93\u5854\u6cd5\uff08Runge-Kutta\uff09\u662f\u7528\u4e8e\u6a21\u62df\u5e38\u5fae\u5206\u65b9\u7a0b\u7684\u89e3\u7684\u91cd\u8981\u7684\u4e00\u7c7b\u9690\u5f0f\u6216\u663e\u5f0f\u8fed\u4ee3\u6cd5\u3002\u8fd9\u4e9b\u6280\u672f\u7531\u6570\u5b66\u5bb6\u5361\u5c14\u00b7\u9f99\u683c\u548c\u9a6c\u4e01\u00b7\u5a01\u5c14\u6d77\u59c6\u00b7\u5e93\u5854\u4e8e1900\u5e74\u5de6\u53f3\u53d1\u660e\u3002\u9f99\u683c\u5e93\u5854\u6cd5\u7684\u5bb6\u65cf\u4e2d\u7684\u4e00\u4e2a\u6210\u5458\u5982\u6b64\u5e38\u7528\uff0c\u4ee5\u81f3\u4e8e\u7ecf\u5e38\u88ab\u79f0\u4e3a\u201cRK4\u201d\u6216\u8005\u5c31\u662f\u201c\u9f99\u683c\u5e93\u5854\u6cd5\u201d\u3002\u8be5\u65b9\u6cd5\u4e3b\u8981\u662f\u5728\u5df2\u77e5\u65b9\u7a0b\u5bfc\u6570\u548c\u521d\u503c\u4fe1\u606f\uff0c\u5229\u7528\u8ba1\u7b97\u673a\u4eff\u771f\u65f6\u5e94\u7528\uff0c\u7701\u53bb\u6c42\u89e3\u5fae\u5206\u65b9\u7a0b\u7684\u590d\u6742\u8fc7\u7a0b\u3002\n",
      "<!-- PELICAN_END_SUMMARY -->\n",
      "\n",
      ">\u5173\u4e8e\u521d\u503c\u95ee\u9898\u8868\u793a\u5982\u4e0b\uff1a\n",
      "\n",
      "$$\n",
      "y' = f(t,y)\\quad,\\quad y(t_0) = y_0\n",
      "$$\n",
      "\n",
      ">\u5219\uff0c\u5bf9\u4e8e\u8be5\u95ee\u9898\u7684RK4\u7531\u5982\u4e0b\u65b9\u7a0b\u7ed9\u51fa\n",
      "\n",
      "$$\n",
      "y_{n+1} = y_n + \\frac{h}{6}(k_1 + 2k_2 + 2k_3 + k4)\n",
      "$$\n",
      "\n",
      ">\u5176\u4e2d\uff1a\n",
      "\n",
      "\\begin{align}\n",
      "k_1 &= f(t_n,y_n) \\\\\n",
      "k_2 &= f(t_n + \\frac{h}{2},y_n + \\frac{h}{2}k_1) \\\\\n",
      "k_3 &= f(t_n + \\frac{h}{2},y_n + \\frac{h}{2}k_2   \\\\\n",
      "k_4 &= f(t_n + h,y_n + hk_3)\n",
      "\\end{align}\n",
      "\n",
      ">\u8fd9\u6837\uff0c\u4e0b\u4e00\u4e2a\u503c($y_n+1$)\u7531\u73b0\u5728\u7684\u503c($y_n$)\u52a0\u4e0a\u65f6\u95f4\u95f4\u9694($h$)\u548c\u4e00\u4e2a\u4f30\u7b97\u7684\u659c\u7387\u7684\u4e58\u79ef\u51b3\u5b9a\u3002\u8be5\u659c\u7387\u662f\u4ee5\u4e0b\u659c\u7387\u7684\u52a0\u6743\u5e73\u5747\uff1a\n",
      "\n",
      ">><li><i>k</i><sub>1</sub>\u662f\u65f6\u95f4\u6bb5\u5f00\u59cb\u65f6\u7684\u659c\u7387\uff1b</li>\n",
      ">><li><i>k</i><sub>2</sub>\u662f\u65f6\u95f4\u6bb5\u4e2d\u70b9\u7684\u659c\u7387\uff0c\u901a\u8fc7\u6b27\u62c9\u6cd5\u91c7\u7528\u659c\u7387<i>k</i><sub>1</sub>\u6765\u51b3\u5b9a<i>y</i>\u5728\u70b9<i>t</i><sub><i>n</i></sub> + <i>h</i>/2\u7684\u503c\uff1b</li>\n",
      ">><li><i>k</i><sub>3</sub>\u4e5f\u662f\u4e2d\u70b9\u7684\u659c\u7387\uff0c\u4f46\u662f\u8fd9\u6b21\u91c7\u7528\u659c\u7387<i>k</i><sub>2</sub>\u51b3\u5b9a<i>y</i>\u503c\uff1b</li>\n",
      ">><li><i>k</i><sub>4</sub>\u662f\u65f6\u95f4\u6bb5\u7ec8\u70b9\u7684\u659c\u7387\uff0c\u5176<i>y</i>\u503c\u7528<i>k</i><sub>3</sub>\u51b3\u5b9a\u3002</li>\n",
      "\n",
      ">\u5f53\u56db\u4e2a\u659c\u7387\u53d6\u5e73\u5747\u65f6\uff0c\u4e2d\u70b9\u7684\u659c\u7387\u6709\u66f4\u5927\u7684\u6743\u503c\uff1a\n",
      "\n",
      "$$\\mbox{slope} = \\frac{k_1 + 2k_2 + 2k_3 + k_4}{6}$$\n",
      "\n",
      "<p>RK4\u6cd5\u662f\u56db\u9636\u65b9\u6cd5\uff0c\u4e5f\u5c31\u662f\u8bf4\u6bcf\u6b65\u7684\u8bef\u5dee\u662f<i>h</i><sup>5</sup>\uff0c\u800c\u603b\u79ef\u7d2f\u8bef\u5dee\u4e3a<i>h</i><sup>4</sup>\u9636\u3002</p>\n",
      "<p>\u6ce8\u610f\u4e0a\u8ff0\u516c\u5f0f\u5bf9\u4e8e\u6807\u91cf\u6216\u8005\u5411\u91cf\u51fd\u6570(<i>y</i>\u53ef\u4ee5\u662f\u5411\u91cf)\u90fd\u9002\u7528\u3002</p>"
     ]
    },
    {
     "cell_type": "markdown",
     "metadata": {},
     "source": [
      "###6.\u52a8\u5bfc\u6570\n",
      "\n",
      ">1911\u5e74\uff0cByran\u6700\u65e9\u7ed9\u51fa\u4e86\u52a8\u5bfc\u6570\u8f83\u4e3a\u5b8c\u6574\u548c\u4e25\u683c\u7684\u5b9a\u4e49\u3002\u98de\u884c\u5668\u53d7\u5230\u7684\u975e\u5b9a\u5e38\u6c14\u52a8\u529b\u53ef\u4ee5\u4e25\u683c\u5730\u8868\u793a\u4e3a\u98de\u884c\u72b6\u6001\u53d8\u91cf\u7684\u6cdb\u51fd\u3002\n",
      "\n",
      ">\u5728\u7ebf\u6027\u7684\u6c14\u52a8\u529b\u7cfb\u7edf\u4e2d\uff0c\u6c14\u52a8\u529b\u548c\u529b\u77e9\u5173\u4e8e\u89d2\u4f4d\u79fb\u7684\u5bfc\u6570\u79f0\u4e3a**\u9759\u5bfc\u6570**,\u800c\u6c14\u52a8\u529b\u548c\u529b\u77e9\u5173\u4e8e\u89d2\u901f\u5ea6\u7684\u5bfc\u6570\u79f0\u4e3a**\u52a8\u5bfc\u6570**\u3002\n",
      "\n",
      ">\u52a8\u5bfc\u6570\u53c8\u79f0\u52a8\u7a33\u5b9a\u6027\u5bfc\u6570\uff08dynamic stability derivatives,DSD\uff09\uff0c\u7528\u6765\u63cf\u8ff0\u98de\u884c\u5668\u8fdb\u884c\u673a\u52a8\u98de\u884c\u548c\u53d7\u5230\u6270\u52a8\u65f6\u7684\u6c14\u52a8\u7279\u6027\u3002\u5728\u7269\u7406\u4e0a\u4e00\u822c\u8868\u73b0\u4e3a\u6c14\u52a8\u529b\u5bf9\u8fd0\u52a8\uff08\u72b6\u6001\u53d8\u5316\uff09\u7684\u963b\u5c3c\u4f5c\u7528\u3002\u66f4\u4e00\u822c\u5730\uff0c\u52a8\u5bfc\u6570\u5373\u98de\u884c\u5668\u6240\u53d7\u6c14\u52a8\u529b\u548c\u529b\u77e9\u7684\u5404\u4e2a\u5206\u91cf\uff0c\u5bf9\u98de\u884c\u5668\u5404\u98de\u884c\u72b6\u6001\u53c2\u6570\u7684\u4e00\u9636\u65f6\u95f4\u53d8\u5316\u7387\u7684\u504f\u5bfc\u6570\u3002\n",
      "\n",
      ">>\u6c14\u52a8\u529b\u548c\u529b\u77e9\u5206\u91cf\uff1a\n",
      "\n",
      ">>>a.)    \u963b\u529bD\uff1b\u4fa7\u5411\u529bY\uff1b\u5347\u529bL\n",
      "\n",
      ">>>b.)    \u6eda\u8f6c\u529b\u77e9$M_x$\uff1b\u4fef\u4ef0\u529b\u77e9$M_y$\uff1b\u504f\u822a\u529b\u77e9$M_z$\uff1b\n",
      "\n",
      ">>\u98de\u884c\u5668\u98de\u884c\u72b6\u6001\u53d8\u91cf\uff1a\n",
      ">>>a.)    \u6eda\u8f6c\u89d2\u901f\u5ea6$\\omega_x$\uff1b\u4fef\u4ef0\u89d2\u901f\u5ea6$\\omega_y$\uff1b\u504f\u822a\u89d2\u901f\u5ea6$\\omega_z$\uff1b\n",
      "\n",
      ">>>b.)    \u8fce\u89d2\u53d8\u5316\u7387$\\dot{\\alpha}$\uff1b\u504f\u822a\u89d2\u53d8\u5316\u7387$\\dot{\\beta}$\uff1b\u98de\u884c\u901f\u5ea6\u53d8\u5316\u7387$\\frac{dV}{dt}$\uff1b\n",
      "\n",
      ">>\u5171\u6784\u6210**36**\u4e2a\u539f\u59cb\u7684\u52a8\u5bfc\u6570\u53c2\u6570\u3002\n",
      "\n",
      ">\u5b9e\u8df5\u8868\u660e\uff0c\u5982\u4e0b\u52a8\u5bfc\u6570\u662f\u975e\u5e38\u91cd\u8981\u7684\uff1a\n",
      "\n",
      ">>\u76f4\u63a5\u963b\u5c3c\u5bfc\u6570\uff08direct derivatives\uff09\uff1a\n",
      "\n",
      ">>>$$C_{lp} = \\frac{\\partial{M_x}}{\\partial{p}},C_{nr} = \\frac{\\partial{M_y}}{\\partial{r}},C_{mq} = \\frac{\\partial{M_z}}{\\partial{q}}$$\n",
      "\n",
      ">>\u65f6\u5dee\u5bfc\u6570\uff08plunging derivatives\uff09\uff1a\n",
      "\n",
      ">>>$$C_{n \\dot{\\beta}} = \\frac{\\partial{M_y}}{\\partial{\\dot{\\beta}}},C_{m \\dot{\\alpha}} = \\frac{\\partial{M_z}}{\\partial{\\dot{\\alpha}}}$$\n",
      "\n",
      ">>\u4ea4\u53c9\u5bfc\u6570\uff08cross derivatives\uff09\uff1a\n",
      "\n",
      ">>>$$C_{lr} = \\frac{\\partial{M_x}}{\\partial{\\omega_y}},C_{np} = \\frac{\\partial{M_y}}{\\partial{\\omega_x}}$$\n",
      "\n",
      ">>\u4ea4\u53c9\u8026\u5408\u5bfc\u6570\uff08coupling cross derivatives\uff09\uff1a\n",
      "\n",
      ">>>$$C_{lq} = \\frac{\\partial{M_x}}{\\partial{\\omega_z}},C_{nq} = \\frac{\\partial{M_y}}{\\partial{\\omega_z}},C_{mp} = \\frac{\\partial{M_z}}{\\partial{\\omega_x}},C_{mr} = \\frac{\\partial{M_z}}{\\partial{\\omega_y}}$$\n",
      "\n",
      ">>\u94f0\u94fe\u963b\u5c3c\u529b\u77e9\u5bfc\u6570\uff08hinge damping moment derivatives\uff09(\u4e0b\u6807h\u4ee3\u8868\u94f0\u94fe)\uff1a\n",
      "\n",
      ">>>$$C_{h \\dot{\\delta}_y} = \\frac{\\partial{M_h}}{\\partial{\\dot{\\delta}_y}},C_{h \\dot{\\delta} _z}= \\frac{\\partial{M_h}}{\\partial{\\dot{\\delta}_z}}$$"
     ]
    }
   ],
   "metadata": {}
  }
 ]
}