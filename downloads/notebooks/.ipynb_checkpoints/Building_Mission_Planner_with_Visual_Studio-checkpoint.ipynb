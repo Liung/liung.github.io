{
 "metadata": {
  "name": "",
  "signature": "sha256:f6808ee739a761b5e22badde9b572eece92de7d55528df67c44fb30d5feadcb7"
 },
 "nbformat": 3,
 "nbformat_minor": 0,
 "worksheets": [
  {
   "cells": [
    {
     "cell_type": "heading",
     "level": 1,
     "metadata": {},
     "source": [
      "\u4f7f\u7528Visual Studio\u7f16\u8bd1Mission Planner"
     ]
    },
    {
     "cell_type": "heading",
     "level": 2,
     "metadata": {},
     "source": [
      "\u7b80\u4ecb"
     ]
    },
    {
     "cell_type": "markdown",
     "metadata": {},
     "source": [
      "Mission Planner (MP) is an open source ground station developed in C# primarily for use on Windows computers (although it can be run on Mac using mono).  This is the most commonly used ground station as it provides the most complete functionality for vehicle setup as well as pre-fligth mission planner, in-flight monitoring and post flight log file analysis."
     ]
    },
    {
     "cell_type": "markdown",
     "metadata": {},
     "source": [
      "Mission Planner\uff08\u7b80\u79f0MP\uff09\u662f\u4e00\u6b3eWindows\u5e73\u53f0\u4f7f\u7528\uff08\u53ef\u901a\u8fc7mono\u5b9e\u73b0Mac\u5e73\u53f0\u4e0a\u7684\u8de8\u5e73\u53f0\u4f7f\u7528\uff09\u7684\u5f00\u6e90\u5730\u9762\u7ad9\u8f6f\u4ef6\uff0c\u4e3b\u8981\u5f00\u53d1\u8bed\u8a00\u91c7\u7528C#\u3002\u8be5\u8f6f\u4ef6\u662f\u76ee\u524d\u4f7f\u7528\u6700\u666e\u904d\u7684\u4e00\u6b3e\u5730\u9762\u7ad9\u8f6f\u4ef6\uff0c\u5b83\u4e0d\u4ec5\u9762\u5411\u98de\u884c\u5668\u6216\u5730\u9762\u5c0f\u8f66\u63d0\u4f9b\u4e86\u5b8c\u5907\u5730\u529f\u80fd\u6027\u8bbe\u7f6e\uff0c\u8fd8\u63d0\u4f9b\u4e86\u6b32\u98de\u884c\u4efb\u52a1\u89c4\u5212\u3001\u98de\u884c\u5b9e\u65f6\u76d1\u6d4b\u3001\u98de\u884c\u540e\u65e5\u5fd7\u6587\u4ef6\u5206\u6790\u7b49\u529f\u80fd\u3002"
     ]
    },
    {
     "cell_type": "markdown",
     "metadata": {},
     "source": [
      "This page provides instructions on how you can build the Mission Planner software on your own machine using MS Visual Studio 2013 which may be useful if you wish to make changes for your own use or improvements for the community.  Building the mission planner may also help as a guide in case you plan to build your own custom ground station development."
     ]
    },
    {
     "cell_type": "markdown",
     "metadata": {},
     "source": [
      "\u672c\u9875\u9762\u5c06\u4ecb\u7ecd\u5982\u4f55\u5728\u81ea\u5df1\u7684\u7535\u8111\u4e0a\u4f7f\u7528\u5fae\u8f6f\u7684Visual Studio2013\u8f6f\u4ef6\u7f16\u8bd1Mission Planner\u3002\u80fd\u591f\u987a\u5229\u7684\u5b8c\u6210\u7f16\u8bd1\u5de5\u4f5c\u4e0d\u4ec5\u5bf9\u4f60\u60f3\u8981\u5728Mission Planner\u4e0a\u9700\u8981\u6dfb\u52a0\u7684\u67d0\u4e9b\u53d8\u5316\u6216\u8005\u9762\u5411\u793e\u533a\u7684\u6539\u8fdb\u7b49\u90fd\u662f\u975e\u5e38\u6709\u7528\uff0c\u800c\u4e14\u53ef\u4ee5\u4f5c\u4e3a\u7f16\u8bd1\u4e2a\u4eba\u5b9a\u5236\u5730\u9762\u7ad9\u8f6f\u4ef6\u5f00\u53d1\u7684\u4e00\u4e2a\u6307\u5bfc\u3002"
     ]
    },
    {
     "cell_type": "markdown",
     "metadata": {},
     "source": [
      "Some warnings before you dive in:\n",
      "\n",
      "- Use your modified / complied version of Mission Planner at your own risk.\n",
      "- Mission Planner is a very complex including and making changes is not for the faint of heart. Here are the basic skills you will need to make reasonable progress with MP changes:\n",
      "\n",
      "\u3000\u3000\u25cf C# programming skills and experience (at least or C++ experience).\n",
      "\n",
      "\u3000\u3000\u25cf Experience with Microsoft Visual Studio (VS) development environment. MP is not the application to begin learning VS.\n",
      "\n",
      "\u3000\u3000\u25cf Experience using Windows API  (Application programming Interface) \u2013 including understanding of streams, processes, threads.\n",
      "\n",
      "- Support for Visual Studio, programming in C# and Windows API may not be forthcoming from the DIY Drones community. You will need to get that support from other sources."
     ]
    },
    {
     "cell_type": "markdown",
     "metadata": {},
     "source": [
      "\u6df1\u5165\u7814\u7a76\u4e4b\u524d\u7684\u4e00\u4e9b\u8b66\u793a\uff1a\n",
      "\n",
      "- \u4f7f\u7528\u4e2a\u4eba\u6539\u53d8/\u7f16\u8bd1Mission Planner\u7248\u7684\u98ce\u9669\u7531\u672c\u4eba\u627f\u62c5\n",
      "- Mission Planner\u5177\u6709\u975e\u5e38\u590d\u6742\u7684\u5e93\u5305\u542b\u5173\u7cfb\uff0c\u4e0d\u63a8\u8350\u6982\u5ff5\u6a21\u7cca\u5c31\u6539\u7f16\u4ee3\u7801\u3002\u8fd9\u91cc\u5217\u51fa\u4e86\u4f60\u9700\u8981\u5bf9MP\u505a\u51fa\u53ef\u4fe1\u6539\u53d8\u7684\u4e00\u4e9b\u57fa\u672c\u6280\u672f\u80fd\u529b\uff1a\n",
      "\n",
      "\u3000\u3000\u25cf \u5177\u5907C#\u7f16\u7a0b\u6280\u672f\u4e0e\u76f8\u5173\u7ecf\u9a8c\uff08\u81f3\u5c11\u6709C++\u76f8\u5173\u7ecf\u9a8c\uff09\n",
      "\n",
      "\u3000\u3000\u25cf \u5177\u6709\u5fae\u8f6fVS\u5f00\u53d1\u73af\u5883\u76f8\u5173\u7ecf\u9a8c\u3002MP\u4e0d\u662f\u5b66\u4e60VS\u7684\u5165\u95e8\u5e94\u7528\u3002\n",
      "\n",
      "\u3000\u3000\u25cf \u5177\u6709Windows\u7684API\uff08\u5e94\u7528\u7a0b\u5e8f\u63a5\u53e3\uff09\uff0c\u5305\u62ec\u7406\u89e3\u6570\u636e\u6d41\u3001\u8fdb\u7a0b\u3001\u7ebf\u7a0b\u7b49\u76f8\u5173\u7ecf\u9a8c\u3002\n",
      "\n",
      "- VS\u7684\u76f8\u5173\u652f\u6301\uff0cC#\u7f16\u7a0b\u76f8\u5173\u4ee5\u53caWindows API\u76f8\u5173\u6280\u672f\u53ef\u80fd\u4e0d\u4f1a\u4eceDIY Drones\u793e\u533a\u83b7\u5f97\u3002\u4f60\u9700\u8981\u4ece\u5176\u4ed6\u8d44\u6e90\u83b7\u5f97\u5e2e\u52a9\u4e0e\u652f\u6301\u3002"
     ]
    },
    {
     "cell_type": "markdown",
     "metadata": {},
     "source": [
      "---"
     ]
    },
    {
     "cell_type": "heading",
     "level": 2,
     "metadata": {},
     "source": [
      "\u7cfb\u7edf\u9700\u6c42"
     ]
    },
    {
     "cell_type": "markdown",
     "metadata": {},
     "source": [
      "Here is what you will need.\n",
      "\n",
      "- Windows XP, Vista, 7, 8\n",
      "- Sufficient disk space, memory, processor power to comfortably run Visual Studio (details below)\n",
      "- An Internet connection.\n",
      "- Visual Studio 2013 community edition"
     ]
    },
    {
     "cell_type": "markdown",
     "metadata": {},
     "source": [
      "\u4f60\u9700\u8981\uff1a\n",
      "\n",
      "- Windows XP, Vista, 7, 8\n",
      "- \u8db3\u591f\u7684\u786c\u76d8\u7a7a\u95f4\u3001\u5185\u5b58\u3001\u5904\u7406\u5668\u7528\u6765\u8fd0\u884cVS\uff08\u5177\u4f53\u5185\u5bb9\u89c1\u4e0b\u6587\uff09\n",
      "- \u7f51\u7edc\u8fde\u63a5\u901a\u7545\n",
      "- Visual Studio 2013\u793e\u533a\u7248"
     ]
    },
    {
     "cell_type": "markdown",
     "metadata": {},
     "source": [
      "---"
     ]
    },
    {
     "cell_type": "heading",
     "level": 2,
     "metadata": {},
     "source": [
      "\u5b89\u88c5Visual Studio \u548c DirectX"
     ]
    },
    {
     "cell_type": "markdown",
     "metadata": {},
     "source": [
      "The first step is to get Microsoft Visual Studio 2013 installed and working in your Windows system.\n",
      "\n",
      "- Download and install MS Visual Studio 2013 Community Edition which can be found here.\n",
      "- Reboot your PC\n",
      "- Start Visual Studio from the Start Menu\n",
      "- After your installation is complete and before attempting to work with Mission Planner test your installation on a simple \u201cHello World\u201d application.\n",
      "\n",
      "\n",
      "Install Direct X by downloading and running the DirectX End-User Runtime Web Installer."
     ]
    },
    {
     "cell_type": "markdown",
     "metadata": {},
     "source": [
      "\u7b2c\u4e00\u6b65\u5b89\u88c5[Visual Studio 2013](http://www.visualstudio.com/)\uff0c\u5e76\u4e14\u4fdd\u8bc1\u5728Windows\u7cfb\u7edf\u4e2d\u80fd\u591f\u6b63\u5e38\u8fd0\u884c\u3002\n",
      "\n",
      "- \u4e0b\u8f7d\u5e76\u5b89\u88c5MS Visual Studio 2013\u793e\u533a\u7248\uff08[\u70b9\u51fb\u8fd9\u91cc](http://www.visualstudio.com/)\uff09\n",
      "- \u91cd\u542f\u7535\u8111\n",
      "- \u4ece\u5f00\u59cb\u6309\u94ae\u4e2d\u8fd0\u884cVisual Studio\n",
      "- \u5f53\u5b89\u88c5\u5b8c\u6210\u540e\uff0c\u5c1d\u8bd5\u6539\u53d8Mission Planner\u4e4b\u524d\u5148\u4f7f\u7528\u4e00\u4e2a\u7b80\u5355\u7684\u201cHello World\u201d\u4f8b\u5b50\u6d4b\u8bd5\u4e00\u4e0b\u4f60\u5b89\u88c5\u7684\u8f6f\u4ef6\u80fd\u5426\u6b63\u5e38\u4f7f\u7528\u3002\n",
      "\n",
      "\u901a\u8fc7\u4e0b\u8f7d\u5e76\u8fd0\u884c [DirectX End-User Runtime Web Installer](http://www.microsoft.com/en-us/download/confirmation.aspx?id=35)\uff0c\u5b8c\u6210DirectX\u7684\u5b89\u88c5\u3002"
     ]
    },
    {
     "cell_type": "markdown",
     "metadata": {},
     "source": [
      "---"
     ]
    },
    {
     "cell_type": "heading",
     "level": 2,
     "metadata": {},
     "source": [
      "\u4eceGithub\u4e2d\u5f97\u5230\u6e90\u4ee3\u7801"
     ]
    },
    {
     "cell_type": "markdown",
     "metadata": {},
     "source": [
      "The Mission Planner source code is stored in GitHub.  In general you can follow the instructions for the ardupilot flight code except that you should use the https://github.com/diydrones/MissionPlanner repository in place of the ardupilot repository."
     ]
    },
    {
     "cell_type": "markdown",
     "metadata": {},
     "source": [
      "Mission Planner\u6e90\u4ee3\u7801\u50a8\u5b58\u5728Github\u7f51\u7ad9\u4e0a\u3002\u4f60\u53ef\u4ee5\u9075\u5faa\u4e4b\u524d\u5982\u4f55\u83b7\u53d6[ardupilot\u98de\u884c\u4ee3\u7801](http://dev.ardupilot.com/wiki/buildin-mission-planner/wiki/where-to-get-the-code/)\u7684\u4ecb\u7ecd\u5728 [https://github.com/diydrones/MissionPlanner](https://github.com/diydrones/MissionPlanner)\u4ee3\u7801\u5e93\u4e2d\u83b7\u53d6\u5f97\u5230Mission Planner\u6e90\u4ee3\u7801\u3002"
     ]
    },
    {
     "cell_type": "markdown",
     "metadata": {},
     "source": [
      "---"
     ]
    },
    {
     "cell_type": "heading",
     "level": 2,
     "metadata": {},
     "source": [
      "\u5728Visual Studio\u4e2d\u6253\u5f00Mission Planner"
     ]
    },
    {
     "cell_type": "markdown",
     "metadata": {},
     "source": [
      "![img1](http://dev.ardupilot.com/wp-content/uploads/sites/6/2013/06/MPBuild_OpenSolution-1024x703.png)"
     ]
    },
    {
     "cell_type": "markdown",
     "metadata": {},
     "source": [
      "- Start Visual Studio\n",
      "- Click File >> Open >> Project / Solution\n",
      "- Navigate to where the Mission Planner source was downloaded to and open ArdupilotMega.sln.\n",
      "- Visual Studio should open the \u201csolution\u201d which includes the Mission Planner and a few other related applications (i.e. \u201c3DR Radio\u201d, \u201cUpdater\u201d, etc) which can all be see in the Solution Explorer (highlighted in yellow above).\n",
      "- Set the \u201cSolution Configuration\u201d to \u201cDebug\u201d or \u201cRelease\u201d (this can be found just below the Tools menu)\n",
      "- Set the \u201cSolution Platforms\u201d to \u201cx86\u2033\n",
      "- In the Solutions Explorer, right-mouse-button click on Mission Planner and select Properties, Signing and uncheck \u201cSign the ClickOnce manifests\u201d"
     ]
    },
    {
     "cell_type": "markdown",
     "metadata": {},
     "source": [
      "- \u8fd0\u884cVisual Studio\n",
      "- \u70b9\u51fb \u6587\u4ef6 >> \u6253\u5f00 >> \u5de5\u7a0b / \u89e3\u51b3\u65b9\u6848\n",
      "- \u5bfc\u822a\u5230Mission Planner\u6587\u4ef6\u5939\uff0c\u9009\u62e9ArdupilotMega.sla\u6587\u4ef6\u6253\u5f00\n",
      "- Visual Studio\u5e94\u8be5\u6253\u5f00\u5305\u542b\u6709Mission Planner\u548c\u5176\u4ed6\u4e00\u4e9b\u76f8\u5173\u5f15\u7528\uff08\u5982\u201c3DR Radio\u201d, \u201cUpdater\u201d\u7b49\uff09\u7684\u76f8\u5173\u89e3\u51b3\u65b9\u6848\uff08solution\uff09,\u53ef\u4ee5\u5728\u201c\u89e3\u51b3\u65b9\u6848\u201d\u7ba1\u7406\u5668\u9762\u677f\u770b\u5230\uff08\u4e0a\u56fe\u9ec4\u8272\u9ad8\u4eae\u533a\u57df\uff09\n",
      "- \u8bbe\u7f6e\u201cSolution Configuration\u201d\u4e3a\u201cDebug\u201d\u6216\u8005\u201cRelease\u201d\uff08\u53ef\u5728\u5de5\u5177\u83dc\u5355\u4e0b\u627e\u5230\u76f8\u5173\u547d\u4ee4\uff09\n",
      "- \u8bbe\u7f6e\u201cSolution Platforms\u201d\u4e3a\u201cx86\u2033\n",
      "- \u5728\u201c\u89e3\u51b3\u65b9\u6848\u201d\u7ba1\u7406\u5668\u9762\u677f\u4e2d\uff0c\u5728Mission Planner\u9879\u53f3\u51fb\u9009\u62e9\u5c5e\u6027\uff0c\u5728Signing\u9009\u578b\u5361\u4e2d\u53d6\u6d88\u9009\u4e2d\u201cSign the ClickOnce manifests\u201d"
     ]
    },
    {
     "cell_type": "markdown",
     "metadata": {},
     "source": [
      "![img2](http://dev.ardupilot.com/wp-content/uploads/sites/6/2013/06/MPBuild_UncheckSigning-1024x641.png)"
     ]
    },
    {
     "cell_type": "markdown",
     "metadata": {},
     "source": [
      "Mission Planner is made up of several projects, you can see these by expanding the \u201cMissionPlanner\u201d and \u201cLibs\u201d folders of the Solution Explorer.\n",
      "\n",
      "- MissionPlanner (the main code)\n",
      "- AviFile\n",
      "- BaseClasses\n",
      "- BSE.Windows.Forms\n",
      "- Core\n",
      "- GeoUtility\n",
      "- GMap.Net.Core\n",
      "- GMap.Net.WindowsForms\n",
      "- KMLib\n",
      "- MAVLink\n",
      "- MetaDataExtractor\n",
      "- MissionPlanner.Comms\n",
      "- MissionPlanner.Controls\n",
      "- MissionPlanner.Utils\n",
      "- px4uploader\n",
      "- SharpKml\n",
      "- ZedGraph"
     ]
    },
    {
     "cell_type": "markdown",
     "metadata": {},
     "source": [
      "Mission Planner\u6709\u5982\u4e0b\u51e0\u4e2a\u5de5\u7a0b\u9879\u76ee\u7ec4\u6210\uff0c\u4f60\u53ef\u4ee5\u901a\u8fc7\u5728\u89e3\u51b3\u65b9\u6848\u9762\u677f\u4e2d\u6253\u5f00\u201cMission Planner\u201d\u548c\u201cLibs\u201d\u6587\u4ef6\u5939\u770b\u5230\u3002\n",
      "\n",
      "- MissionPlanner (\u4e3b\u4ee3\u7801)\n",
      "- AviFile\n",
      "- BaseClasses\n",
      "- BSE.Windows.Forms\n",
      "- Core\n",
      "- GeoUtility\n",
      "- GMap.Net.Core\n",
      "- GMap.Net.WindowsForms\n",
      "- KMLib\n",
      "- MAVLink\n",
      "- MetaDataExtractor\n",
      "- MissionPlanner.Comms\n",
      "- MissionPlanner.Controls\n",
      "- MissionPlanner.Utils\n",
      "- px4uploader\n",
      "- SharpKml\n",
      "- ZedGraph"
     ]
    },
    {
     "cell_type": "markdown",
     "metadata": {},
     "source": [
      "---"
     ]
    },
    {
     "cell_type": "heading",
     "level": 2,
     "metadata": {},
     "source": [
      "Building Mission Planner"
     ]
    },
    {
     "cell_type": "markdown",
     "metadata": {},
     "source": [
      "Before you attempt to build (compile) Mission Planner you must also have the official version installed on your PC.  This is because there are some .dll files that are not included in the Git repository."
     ]
    },
    {
     "cell_type": "markdown",
     "metadata": {},
     "source": [
      "\u5728\u5c1d\u8bd5\u7f16\u8bd1Mission Planner\u4e4b\u524d\uff0c\u8fd8\u5fc5\u987b\u5728\u4f60\u7684\u7535\u8111\u4e0a\u5b89\u88c5\u5b98\u65b9\u5b89\u88c5\u7248Mission Planner\u3002\u8fd9\u662f\u56e0\u4e3a\u6709\u4e00\u4e9b\u52a8\u6001\u5e93\u6587\u4ef6.dll\u6ca1\u6709\u5305\u542b\u5728Git\u4ee3\u7801\u5e93\u4e2d\u3002"
     ]
    },
    {
     "cell_type": "markdown",
     "metadata": {},
     "source": [
      "![img3](http://dev.ardupilot.com/wp-content/uploads/sites/6/2013/06/MPBuild_BatchBuild-1024x741.png)"
     ]
    },
    {
     "cell_type": "markdown",
     "metadata": {},
     "source": [
      "Select Build >> Batch Build\u2026, \u201cSelect All\u201d (to check all checkboxes) and then press \u201cRebuild\u201d.  You will probably see errors on your first attempt to compile (build) Mission Planner so try a couple more times."
     ]
    },
    {
     "cell_type": "markdown",
     "metadata": {},
     "source": [
      "\u9009\u62e9Build >> Batch Build\u2026\uff08\u7f16\u8bd1 >> \u6279\u7f16\u8bd1\uff09\uff0c\u201cSelect All\u201d\uff08\u9009\u62e9\u5168\u90e8\uff09\uff0c\u7136\u540e\u70b9\u51fb\u201cRebuild\u201d\uff08\u91cd\u65b0\u7f16\u8bd1\uff09\u3002\u7b2c\u4e00\u6b21\u5c1d\u8bd5\u7f16\u8bd1Mission Planner\u65f6\u53ef\u80fd\u4f1a\u51fa\u73b0\u4e00\u4e9b\u9519\u8bef\uff0c\u6240\u4ee5\u591a\u5c1d\u8bd5\u51e0\u6b21\u3002"
     ]
    },
    {
     "cell_type": "markdown",
     "metadata": {},
     "source": [
      "If errors persist try some of the following:\n",
      "\n",
      "\n",
      "\n",
      "- For errors related to missing dlls:\n",
      "\n",
      "\u3000\u3000\u25cf In the Solution Explorer right click the MissionPlanner project, Properties, Reference Paths\n",
      "\n",
      "\u3000\u3000\u25cf In the Folder entry, browse to and select the location of the \u201cinstalled\u201d Mission Planner which is probably: C:\\Program Files (x86)\\Mission Planner OR C:\\Program Files\\Mission Planner\n",
      "\n",
      "\u3000\u3000\u25cf Click the Add Folder button to put the path to the installed MP into the Reference paths box.\n",
      "\n",
      "\u3000\u3000\u25cf Click (select)  Build Events.  Remove all pre-build and post build options.\n",
      "\n",
      "\u3000\u3000\u25cf Click (select)  Build.\n",
      "\n",
      "- For  errors about missing references, you will see the name of the project for each error listed. Select Properties for each project with such errors and add the location of the Installed Mission Planner like you did above for MissionPlanner project.  That should reduce the errors.\n",
      "- If you see an error in project BSE.Windows.Forms \u201c..could not locate the Code Analysis tool at \u201d.  You can eliminate this by un-checking the Enable Code Analysis box in Code Analysis  in the BSE.Windows.Forms  properties."
     ]
    },
    {
     "cell_type": "markdown",
     "metadata": {},
     "source": [
      "\u5982\u679c\u4e00\u4e9b\u9519\u8bef\u4ecd\u7136\u5b58\u5728\uff0c\u90a3\u4e48\u8bd5\u7740\u4f7f\u7528\u4e0b\u9762\u8fd9\u4e9b\u65b9\u6cd5\uff1a\n",
      "\n",
      "- \u5bf9\u4e8e\u7f3a\u5931dlls\u76f8\u5173\u7684\u9519\u8bef:\n",
      "\n",
      "\u3000\u3000\u25cf \u89e3\u51b3\u65b9\u6848\u9762\u677f\u4e2d\uff0c\u5728MissionPlanner\u5de5\u7a0b\u4e0a\u53f3\u51fb\u9009\u62e9\u5c5e\u6027\uff0c\u53c2\u8003\u8def\u5f84\u3002\n",
      "\n",
      "\u3000\u3000\u25cf \u5728\u6587\u4ef6\u9009\u62e9\u7a97\u53e3\uff0c\u9009\u62e9\u5df2\u7ecf\u5b89\u88c5\u7684Mission Planner\u6587\u4ef6\u76ee\u5f55\uff0c\u5176\u53ef\u80fd\u4e3a\uff1a C:\\Program Files (x86)\\Mission Planner \u6216\u8005 C:\\Program Files\\Mission Planner\n",
      "\n",
      "\u3000\u3000\u25cf \u70b9\u51fb\u6dfb\u52a0\u6587\u4ef6\u5939\u6309\u94ae\uff0c\u7136\u540e\u5c06\u5df2\u5b89\u88c5\u7684Mission Planner\u6587\u4ef6\u76ee\u5f55\u8f93\u5165\u5230\u53c2\u8003\u76ee\u5f55\u6846\u4e2d\u3002\n",
      "\n",
      "\u3000\u3000\u25cf \u70b9\u51fb(\u9009\u62e9)\u7f16\u8bd1\u4e8b\u4ef6\u3002\u79fb\u9664\u6240\u6709\u9884\u7f16\u8bd1pre-build\u548c\u7f16\u8bd1\u540e\uff08Post build\uff09\u9009\u9879\u3002\n",
      "\n",
      "\u3000\u3000\u25cf \u70b9\u51fb (\u9009\u62e9)\u7f16\u8bd1\u3002\n",
      "\n",
      "- \u5bf9\u4e8e\u7f3a\u5931\u7d22\u5f15\u76f8\u5173\u9519\u8bef\uff0c\u53ef\u4ee5\u67e5\u770b\u6bcf\u4e2a\u5217\u51fa\u7684\u9519\u8bef\u5bf9\u5e94\u7684\u5de5\u7a0b\u540d\u3002\u7136\u540e\u9009\u62e9\u76f8\u5e94\u5de5\u7a0b\u7684\u5c5e\u6027\uff0c\u548c\u4e4b\u524d\u4e00\u6837\u6dfb\u52a0\u5df2\u5b89\u88c5\u7248Mission Planner\u5b89\u88c5\u76ee\u5f55\u3002\u8fd9\u6837\u5e94\u8be5\u53ef\u4ee5\u51cf\u5c11\u6b64\u7c7b\u9519\u8bef\u3002\n",
      "- \u5982\u679c\u5728\u5de5\u7a0bBSE.Windows.Forms\u4e2d\u9047\u5230\u7c7b\u4f3c\u201c..could not locate the Code Analysis tool at\u201d\u3002\u4f60\u53ef\u4ee5\u5728BSE.Windows.Forms\u5c5e\u6027\u9009\u9879\u4e2d\u7684Code Analysis\u901a\u8fc7\u53d6\u6d88\u52fe\u9009\u4ee3\u7801\u5206\u6790\u9009\u578b\u6765\u89e3\u51b3\u3002"
     ]
    },
    {
     "cell_type": "markdown",
     "metadata": {},
     "source": [
      "Some optional help in resolving build errors:\n",
      "\n",
      "- In VS, Select menu items [BUILD] [Configuration Manager] This will show you which projects are compiled (built) each time you do a build or re-build solution.\n",
      "- Check \u2018Build\u2019 for any that are not checked:\n",
      "- (I.E. 3DRRadio, Updater, wix)\n",
      "- Do [Build], [Clean Solution] then [Build], [Rebuild solution].\n",
      "- All projects should build without errors.\n",
      "- When you build without errors, you are ready to begin browsing or editing.\n"
     ]
    },
    {
     "cell_type": "markdown",
     "metadata": {},
     "source": [
      "\u89e3\u51b3\u7f16\u8bd1\u9519\u8bef\u65f6\u4e00\u4e9b\u6709\u7528\u7684\u5e2e\u52a9:\n",
      "\n",
      "- \u5728VS\u4e2d\uff0c\u5f53\u4f60\u8fdb\u884c\u7f16\u8bd1\u6216\u8005\u9884\u7f16\u8bd1\u4e00\u4e2a\u89e3\u51b3\u65b9\u6848\u65f6\uff0c\u9009\u62e9\u83dc\u5355\u9879[BUILD] [Configuration Manager]\uff0c\u5c06\u4f1a\u663e\u793a\u51fa\u6bcf\u6b21\u54ea\u4e2a\u9879\u76ee\u5c06\u88ab\u7f16\u8bd1\u3002\n",
      "- \u9009\u62e9\u7f16\u8bd1\u90a3\u4e9b\u672a\u88ab\u9009\u4e2d\u7684\u9879\u76ee: (\u4f8b\u5982 3DRRadio, Updater, wix)\n",
      "- \u9009\u62e9 [Build], [Clean Solution] \u7136\u540e [Build], [Rebuild solution].\n",
      "- \u6240\u6709\u7684\u5de5\u7a0b\u5e94\u8be5\u90fd\u53ef\u4ee5\u88ab\u6b63\u786e\u7f16\u8bd1.\n",
      "\n",
      "\n",
      "\u5f53\u7f16\u8bd1\u4e2d\u6ca1\u6709\u9519\u8bef\u53d1\u751f\u65f6\uff0c\u90a3\u4e48\u4f60\u5c31\u53ef\u4ee5\u51c6\u5907\u5f00\u59cb\u6d4f\u89c8\u5e76\u7f16\u8f91\u6e90\u4ee3\u7801\u4e86\u3002\n"
     ]
    },
    {
     "cell_type": "markdown",
     "metadata": {},
     "source": [
      "---"
     ]
    },
    {
     "cell_type": "heading",
     "level": 2,
     "metadata": {},
     "source": [
      "Building the SimpleExample"
     ]
    },
    {
     "cell_type": "markdown",
     "metadata": {},
     "source": [
      "The \u201cSimpleExample\u201d solution is available as a near minimal application to demonstrate how a C# program can connect to a vehicle and cause it to arm or disarm. This example has many fewer dependencies than the full Mission Planner and is simpler to build and understand.\n",
      "\n",
      "Open the solution from Visual Studio by selecting File >> Open >> Project/Solution, and in the MissionPlanner code directory select ExtLibs / SimpleExample.sln\n",
      "\n",
      "Ensure the program can be build successfully by selecting Build >> Build Solution.\n",
      "\n",
      "After first checking that you can connect to your flight controller and arm it with the regular mission planner, disconnect the regular Mission Planner and then press \u201cStart\u201d to run the application in debug mode.  When the \u201cForm1\u2033 pops up, select the COM port, the baud rate (probably 115200) and press Connect.  If it succesfully connects, press Arm/Disarm to attempt to arm the vehicle.\n",
      "\n",
      "Note: there is no error checking in the application so if it fails to connect it"
     ]
    },
    {
     "cell_type": "markdown",
     "metadata": {},
     "source": [
      "---"
     ]
    },
    {
     "cell_type": "heading",
     "level": 2,
     "metadata": {},
     "source": [
      "Editing and Debugging Mission Planner (and Other Tips)"
     ]
    },
    {
     "cell_type": "markdown",
     "metadata": {},
     "source": [
      "Editing and debugging details are beyond the scope of this Wiki. Debugging may result in some warnings. You should learn what they mean and take the necessary steps to resolve them if that is the case. Here is a simple debugging example to get you started.\n",
      "\n",
      "- Do not connect your APM to the compiled version of MP.  You must first copy some .xml files to the bin/debug folder. See details below.\n",
      "- First be sure VS is configured for debug (versus release) Set this in the top menu tools area or the configuration manager.\n",
      "- Select menu DEBUG, Start Debugging.   (Or, press F5).  Mission Planner should run as you normally see it.  However, some important configuration files are missing so connection to the APM is not recommended at this time.\n",
      "\n",
      "\u3000\u3000\u25cf If after \u201cStart Debugging\u201d the program loading hangs in the splash screen and you see this message:  \u201cManaged Debugging Assistant \u2018LoaderLock\u2019 has detected a problem \u2026\u2026 \u201c\u2018  and/or the debugger has paused at the line  Application.Run(new MainV2()); in ArdupilotMega.Program then do this:\n",
      "Select [Debug],  [Exceptions].   Expand the [Managed Debugging Assistants].  Uncheck the \u2018Loader Lock\u2019 check box\n",
      "\n",
      "- Close MP. (Or, select menu DEBUG, Stop Debugging in VS).\n",
      "- Next you can try setting a break point.\n",
      "\n",
      "\u3000\u3000\u25cf Expand the ArdupilotMega project in the VS Solution Explorer so you see the objects included.\n",
      "\n",
      "\u3000\u3000\u25cf Scroll down to MainV2.cs, right click that object and select View Code.\n",
      "\n",
      "\u3000\u3000\u25cf In the code window for MainV2.cs, scroll down to the module public MainV2() then to the line\n",
      "\n",
      "\u3000\u3000\u25cf splash.Text = \u201cMission Planner \u201d + Application.ProductVersion + \u201d \u201d + strVersion;   (about line number 169)\n",
      "\n",
      "\u3000\u3000\u25cf Click in front of that line (In the dark gray bar on the left) to set a break point  (red circle).\n",
      "\n",
      "\u3000\u3000\u25cf Start Debugging  (press F5).\n",
      "\n",
      "\u3000\u3000\u25cf You will see the normal MP start up windows up to the Splash window but then it will stop running.  You have hit the break point. Visual Studio will show the code and the break point will be highlighted. Note that you cannot move the splash screen so you may need to relocate the VS window to see the break point.\n",
      "\n",
      "\u3000\u3000\u25cf Move your mouse over different variables and objects in the code. You will see the current values of many or the items.\n",
      "\n",
      "\u3000\u3000\u25cf Press F5 and Mission Planner will continue loading.\n",
      "\n",
      "- Further details on editing and debugging are left to the user."
     ]
    },
    {
     "cell_type": "markdown",
     "metadata": {},
     "source": [
      "---"
     ]
    },
    {
     "cell_type": "heading",
     "level": 2,
     "metadata": {},
     "source": [
      "Using your modified Mission Planner"
     ]
    },
    {
     "cell_type": "markdown",
     "metadata": {},
     "source": [
      "If you make changes to Mission Planner, you will probably want to make use of your version.  Here we will give you some preliminary  information to do that. You can use your local compiled version but the compiled output files are located in different places in VS and some additional steps are required.  There are configuration files specific to your installation of Mission Planner that are not included in the Git hub download that are only provided in the Mission Planner installation package. You will need to copy these to the correct area in the folder you are using for the Visual Studio project. Here are the steps that will get you started.\n",
      "\n",
      "- Use your modified / complied version of Mission Planner at your own risk.\n",
      "- These steps assume VS is in the debug configuration.  \n",
      "- In order for your VS version of MP to function with the APM connected, you will need to copy several files from the folder where MP is installed (C:\\Program Files (x86)\\APM Planner  or C:\\Program Files\\APM Planner) to the folder where your VS project compiled output is located. \n",
      "\n",
      "\u3000\u3000\u25cf Copy (don\u2019t move) all xml files (I.E. files with the extension .xml) from the root folder of the MP installation (C:\\Program Files\\APM Planner)  to the bin/Debug folder in the folder where your Visual Studio Mission Planner solution is stored. (the Git hub clone folder). This will setup your compiled version to match the current configuration of your APM (copter versus plane, other options.)\n",
      "\n",
      "\u3000\u3000\u25cf I.E, if you solution is in folder MPGitClone, then copy the .xml files to MPGitClone\\bin\\Debug.  Some will copy without notice, but some  will ask you if you want to replace the existing file.  Replacing all seems to work but you should investigate further to be sure you can use MP for real life situations before you do so.\n",
      "\n",
      "\u3000\u3000\u25cf If you build Mission Planner in Release mode, then the files should be copied to the bin/Release folder. This has not been tested at this time.\n",
      "\n",
      "- Here are some other tips:\n",
      "\n",
      "\u3000\u3000\u25cf Location of Logs saved when using your version will be in the /bin/Debug or  bin/Release folder. This can be changed with Mission Planner 1.2.63 and later versions.\n",
      "\n",
      "\u3000\u3000\u25cf If you want to make a shortcut to run your version of Mission Planner without running Visual Studio, create the shortcut to point to the program ArdupilotMegaPlanner10.exe in the bin/Debug or bin/Release sub folders.\n",
      "\n",
      "- At this point your local version of MP should be working. You should be able to connect to your APM, Flight Data including status should work, Configuration should bring up you APM parameters, Terminal should work including saveing and browsing logs. Flight Planner should also work. As mentioned before, use your modified version at your own risk."
     ]
    },
    {
     "cell_type": "markdown",
     "metadata": {},
     "source": [
      "---"
     ]
    },
    {
     "cell_type": "heading",
     "level": 2,
     "metadata": {},
     "source": [
      "Submitting your changes for inclusion in Master"
     ]
    },
    {
     "cell_type": "markdown",
     "metadata": {},
     "source": [
      "Generally the advice is the same as for the ardupilot flight code (instructions here) but here is a very short summary of the steps:\n",
      "\n",
      "- Sign up a member of Git hub\n",
      "- Create a personal Fork of the Mission Planner by going to https://github.com/diydrones/MissionPlanner and click on Fork  (Upper right corner area)  This creates a copy (fork) of Mission Planner files in your Git Hub account.\n",
      "- Clone your personal repo (created with the Fork above) to your PC\n",
      "- Create a new branch in your repo and commit your changes and push these back to GitHub (these will only go into your repo on GitHub).\n",
      "- Use the GitHub web page to create a Pull Request from your branch\n",
      "- The owner of Mission Planner (Michael Oborne) will receive an email notifying him of your Pull Request.  He will most likely review, provide feedback and if he accepts the commit it will be added to master.\n"
     ]
    },
    {
     "cell_type": "markdown",
     "metadata": {},
     "source": [
      "---"
     ]
    },
    {
     "cell_type": "heading",
     "level": 2,
     "metadata": {},
     "source": [
      "\u94fe\u63a5"
     ]
    },
    {
     "cell_type": "markdown",
     "metadata": {},
     "source": [
      "1. [APM\u5b98\u7f51\u539f\u6587\u94fe\u63a5](http://dev.ardupilot.com/wiki/editing-the-code/)\n",
      "1. [APM\u5f00\u53d1\u4eba\u5458\u53c2\u8003\u624b\u518c\u76ee\u5f55\u5217\u8868]({filename}2015-01-24-APM-\u4f7f\u7528Visual_Studio\u7f16\u8bd1Mission_Planner.md)"
     ]
    },
    {
     "cell_type": "markdown",
     "metadata": {},
     "source": [
      "*(over)*"
     ]
    }
   ],
   "metadata": {}
  }
 ]
}